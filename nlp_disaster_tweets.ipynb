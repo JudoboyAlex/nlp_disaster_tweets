{
 "cells": [
  {
   "cell_type": "markdown",
   "metadata": {},
   "source": [
    "# NLP With Disaster Tweets\n",
    "\n",
    "## Brief Description of The Problem and Data\n",
    "\n",
    "Twitter has become an important communication channel in times of emergency. The ubiquitousness of smartphones enables people to announce an emergency they’re observing in real-time. Because of this, more agencies are interested in programatically monitoring Twitter(i.e. disaster relief organizations and news agencies).\n",
    "The task is to build a model that can classify tweets as either related to a real disaster or not. This is a common natural language processing (NLP) problem involving text classification.\n",
    "\n",
    "## Data Overview\n",
    "\n",
    "This dataset is from https://www.kaggle.com/competitions/nlp-getting-started/data, include 7613 rows of tweets for training, 3263 rows of tweets for testing.\n",
    "\n",
    "The dataset consists of:\n",
    "\n",
    "train.csv: Training data with columns:\n",
    "id: Unique identifier for each tweet\n",
    "text: The tweet content\n",
    "location: The location from where the tweet was sent (optional)\n",
    "keyword: A specific keyword from the tweet (optional)\n",
    "target: Binary label indicating if the tweet is about a real disaster (1) or not (0)\n",
    "\n",
    "test.csv: Test data similar to train.csv but without the target column.\n"
   ]
  },
  {
   "cell_type": "code",
   "execution_count": null,
   "metadata": {},
   "outputs": [],
   "source": [
    "# Import Libraries\n",
    "import os\n",
    "import numpy as np\n",
    "import pandas as pd\n",
    "import matplotlib.pyplot as plt\n",
    "import seaborn as sns\n",
    "import re\n",
    "import nltk\n",
    "import subprocess\n",
    "import tensorflow as tf\n",
    "from nltk.tokenize import RegexpTokenizer\n",
    "from nltk.stem import WordNetLemmatizer\n",
    "from sklearn.feature_extraction.text import TfidfVectorizer\n",
    "tokenizer = tf.keras.preprocessing.text.Tokenizer\n",
    "pad_sequences = tf.keras.preprocessing.sequence.pad_sequences\n",
    "from tensorflow.python.keras.models import Sequential\n",
    "from tensorflow.python.keras.layers import Embedding, LSTM, Dense, Dropout, Bidirectional, BatchNormalization\n",
    "from tensorflow.python.keras.regularizers import l2\n",
    "from tensorflow.python.keras.optimizers import Adam, Adagrad\n",
    "from tensorflow.python.keras.callbacks import EarlyStopping, ModelCheckpoint"
   ]
  },
  {
   "cell_type": "markdown",
   "metadata": {},
   "source": [
    "## Exploratory Data Analysis (EDA) — Inspect, Visualize and Clean the Data"
   ]
  }
 ],
 "metadata": {
  "kernelspec": {
   "display_name": ".venv",
   "language": "python",
   "name": "python3"
  },
  "language_info": {
   "name": "python",
   "version": "3.12.1"
  }
 },
 "nbformat": 4,
 "nbformat_minor": 2
}
